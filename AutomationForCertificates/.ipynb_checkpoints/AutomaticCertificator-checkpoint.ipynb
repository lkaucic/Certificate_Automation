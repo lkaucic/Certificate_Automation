{
 "cells": [
  {
   "cell_type": "code",
   "execution_count": null,
   "id": "ed87abfc",
   "metadata": {},
   "outputs": [],
   "source": [
    "# AUTOMATIC CERTIFICATOR\n",
    "# ...................................\n",
    "# Given .xlsx file with form responses, and certificate template, \n",
    "# this script generates certificates and sends them to all recipients via SMTP\n",
    "# ...................................\n",
    "# AUTHOR: LUKA KAUCIC\n",
    "# DATE: 2023-03-12\n",
    "# CONTACT: luka.kaucic08@gmail.com\n",
    "# ..................................."
   ]
  },
  {
   "cell_type": "code",
   "execution_count": null,
   "id": "afa30866",
   "metadata": {},
   "outputs": [],
   "source": [
    "import pandas as pd\n",
    "import numpy as np\n",
    "!pip install python-docx\n",
    "!pip install docxtpl\n",
    "from docx import Document\n",
    "from docxtpl import DocxTemplate\n",
    "import smtplib\n",
    "import ssl\n",
    "import os\n",
    "from email.message import EmailMessage\n",
    "from email.mime.text import MIMEText\n",
    "from email.mime.multipart import MIMEMultipart\n",
    "from email.mime.base import MIMEBase\n",
    "from email import encoders"
   ]
  },
  {
   "cell_type": "code",
   "execution_count": null,
   "id": "bcdb959c",
   "metadata": {},
   "outputs": [],
   "source": [
    "form_responses = pd.read_excel(\"//Users//lkaucic//Downloads//Foundations of data science for machine learning(1-2).xlsx\")\n",
    "form_responses"
   ]
  },
  {
   "cell_type": "code",
   "execution_count": null,
   "id": "497df17a",
   "metadata": {},
   "outputs": [],
   "source": [
    "names = form_responses[\"Ime i prezime\"].values\n",
    "emails = form_responses[\"e-mail adresa za slanje certifikata\"].values\n",
    "info = list(zip(names,emails))\n",
    "info"
   ]
  },
  {
   "cell_type": "code",
   "execution_count": null,
   "id": "fdd45e35",
   "metadata": {},
   "outputs": [],
   "source": [
    "certificate = DocxTemplate(\"//Users//lkaucic//Desktop//Foundations of DS//AutomationForCertificates//Event Certificate Template.docx\")"
   ]
  },
  {
   "cell_type": "code",
   "execution_count": null,
   "id": "df5e613c",
   "metadata": {},
   "outputs": [],
   "source": [
    "for attendee in info:\n",
    "    context = {\n",
    "    'student_name': attendee[0],\n",
    "    }\n",
    "    certificate.render(context)\n",
    "    certificate.save(f\"//Users//lkaucic//Desktop//Foundations of DS//AutomationForCertificates//Filled Certificates//Certifikat_{attendee[0]}.docx\")"
   ]
  },
  {
   "cell_type": "code",
   "execution_count": null,
   "id": "9afe04f4",
   "metadata": {},
   "outputs": [],
   "source": [
    "smtp_port = 587                 # Standard secure SMTP port\n",
    "smtp_server = \"smtp.gmail.com\"  # Google SMTP Server\n",
    "sender = \"luka.kaucic08@gmail.com\"\n",
    "password = \"wciijpqdulbldaqb\"\n",
    "recievers = [email for name, email in info]"
   ]
  },
  {
   "cell_type": "code",
   "execution_count": null,
   "id": "62937b85",
   "metadata": {},
   "outputs": [],
   "source": [
    "subject = \"MSA workshop certifikat\"\n",
    "body = f\"\"\"\n",
    "        U prilogu se nalazi certifikat o sudjelovnaju na predavanju 'Foundations of data science for machine learning' \n",
    "        održanog 21.3.2023. u sklopu kolegija 'Osnove analize podataka'.\n",
    "        \n",
    "        Sve upite poslati na: luka.kaucic@studentambassadors.com\n",
    "       \"\"\""
   ]
  },
  {
   "cell_type": "code",
   "execution_count": null,
   "id": "46b5cc5b",
   "metadata": {},
   "outputs": [],
   "source": [
    "for person in info:\n",
    "    \n",
    "    msg = MIMEMultipart()\n",
    "    msg['From'] = sender\n",
    "    msg['To'] = person[1]\n",
    "    msg['Subject'] = subject\n",
    "\n",
    "    msg.attach(MIMEText(body, 'plain'))\n",
    "    filename = f\"//Users//lkaucic//Desktop//Foundations of DS//AutomationForCertificates//Certifikat_{person[0]}.docx\"\n",
    "    attachment= open(filename, 'rb')  # r for read and b for binary\n",
    "\n",
    "    # Encode as base 64\n",
    "    attachment_package = MIMEBase('application', 'octet-stream')\n",
    "    attachment_package.set_payload((attachment).read())\n",
    "    encoders.encode_base64(attachment_package)\n",
    "    attachment_package.add_header('Content-Disposition', \"attachment; filename= \" + filename)\n",
    "    msg.attach(attachment_package)\n",
    "\n",
    "    # Cast as string\n",
    "    text = msg.as_string()\n",
    "    print(\"Connecting to server...\")\n",
    "    TIE_server = smtplib.SMTP(smtp_server, smtp_port)\n",
    "    TIE_server.starttls()\n",
    "    TIE_server.login(sender, password)\n",
    "    print(\"Succesfully connected to server\")\n",
    "    print()\n",
    "\n",
    "\n",
    "    # Send emails to \"person\" as list is iterated\n",
    "    print(f\"Sending email to: {person[0]}...\")\n",
    "    TIE_server.sendmail(sender, person[1], text)\n",
    "    print(f\"Email sent to: {person[0]}, {person[1]}\")\n",
    "    print()\n",
    "\n",
    "# Close the port\n",
    "TIE_server.quit()"
   ]
  }
 ],
 "metadata": {
  "kernelspec": {
   "display_name": "Python 3 (ipykernel)",
   "language": "python",
   "name": "python3"
  },
  "language_info": {
   "codemirror_mode": {
    "name": "ipython",
    "version": 3
   },
   "file_extension": ".py",
   "mimetype": "text/x-python",
   "name": "python",
   "nbconvert_exporter": "python",
   "pygments_lexer": "ipython3",
   "version": "3.9.13"
  }
 },
 "nbformat": 4,
 "nbformat_minor": 5
}
